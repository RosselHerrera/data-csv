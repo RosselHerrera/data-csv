{
 "cells": [
  {
   "cell_type": "markdown",
   "metadata": {},
   "source": [
    "# Empleos Turísticos Region Metropolitana"
   ]
  },
  {
   "cell_type": "markdown",
   "metadata": {},
   "source": [
    "Fuente : https://datos.gob.cl/dataset/7469    Contiene datos relativos a los rubros de empleos generados directamente en establecimientos y/o empresas de Actividades Características del Turismo durante el año 2011, en la Región Metropolitana."
   ]
  },
  {
   "cell_type": "code",
   "execution_count": 1,
   "metadata": {},
   "outputs": [],
   "source": [
    "%matplotlib inline"
   ]
  },
  {
   "cell_type": "code",
   "execution_count": 2,
   "metadata": {
    "scrolled": true
   },
   "outputs": [
    {
     "data": {
      "text/plain": [
       "(484, 727)"
      ]
     },
     "execution_count": 2,
     "metadata": {},
     "output_type": "execute_result"
    }
   ],
   "source": [
    "import matplotlib.pyplot as plt\n",
    "import pandas as pd\n",
    "df = pd.read_csv('data/etRM.csv', encoding='latin-1')\n",
    "df.shape"
   ]
  },
  {
   "cell_type": "code",
   "execution_count": 3,
   "metadata": {
    "scrolled": true
   },
   "outputs": [
    {
     "data": {
      "text/html": [
       "<div>\n",
       "<style scoped>\n",
       "    .dataframe tbody tr th:only-of-type {\n",
       "        vertical-align: middle;\n",
       "    }\n",
       "\n",
       "    .dataframe tbody tr th {\n",
       "        vertical-align: top;\n",
       "    }\n",
       "\n",
       "    .dataframe thead th {\n",
       "        text-align: right;\n",
       "    }\n",
       "</style>\n",
       "<table border=\"1\" class=\"dataframe\">\n",
       "  <thead>\n",
       "    <tr style=\"text-align: right;\">\n",
       "      <th></th>\n",
       "      <th>Id_Encuesta</th>\n",
       "      <th>Actividad</th>\n",
       "      <th>Mz</th>\n",
       "      <th>Act_Cod</th>\n",
       "      <th>Reg</th>\n",
       "      <th>A1</th>\n",
       "      <th>A2_1</th>\n",
       "      <th>A3_1</th>\n",
       "      <th>A2_2</th>\n",
       "      <th>A3_2</th>\n",
       "      <th>...</th>\n",
       "      <th>H5_10</th>\n",
       "      <th>H5_10_Imp</th>\n",
       "      <th>H5_11</th>\n",
       "      <th>H5_11_Imp</th>\n",
       "      <th>H5_12</th>\n",
       "      <th>H5_12_Imp</th>\n",
       "      <th>H5_9esp</th>\n",
       "      <th>H5_10esp</th>\n",
       "      <th>H5_11esp</th>\n",
       "      <th>Fexp</th>\n",
       "    </tr>\n",
       "  </thead>\n",
       "  <tbody>\n",
       "    <tr>\n",
       "      <th>214</th>\n",
       "      <td>1</td>\n",
       "      <td>6</td>\n",
       "      <td>14</td>\n",
       "      <td>13</td>\n",
       "      <td>ALIMENTACION</td>\n",
       "      <td>RESTAURANT</td>\n",
       "      <td>100</td>\n",
       "      <td>NaN</td>\n",
       "      <td>NaN</td>\n",
       "      <td>NaN</td>\n",
       "      <td>...</td>\n",
       "      <td>0</td>\n",
       "      <td>0</td>\n",
       "      <td>0</td>\n",
       "      <td>401500000.0</td>\n",
       "      <td>401500000</td>\n",
       "      <td>NaN</td>\n",
       "      <td>NaN</td>\n",
       "      <td>NaN</td>\n",
       "      <td>11</td>\n",
       "      <td>85000038</td>\n",
       "    </tr>\n",
       "    <tr>\n",
       "      <th>707</th>\n",
       "      <td>1</td>\n",
       "      <td>6</td>\n",
       "      <td>14</td>\n",
       "      <td>13</td>\n",
       "      <td>ALIMENTACION</td>\n",
       "      <td>RESTAURANT</td>\n",
       "      <td>100</td>\n",
       "      <td>NaN</td>\n",
       "      <td>NaN</td>\n",
       "      <td>EVENTOS</td>\n",
       "      <td>...</td>\n",
       "      <td>0</td>\n",
       "      <td>0</td>\n",
       "      <td>0</td>\n",
       "      <td>247600000.0</td>\n",
       "      <td>247600000</td>\n",
       "      <td>NaN</td>\n",
       "      <td>NaN</td>\n",
       "      <td>NaN</td>\n",
       "      <td>5</td>\n",
       "      <td>781000137</td>\n",
       "    </tr>\n",
       "    <tr>\n",
       "      <th>708</th>\n",
       "      <td>1</td>\n",
       "      <td>6</td>\n",
       "      <td>14</td>\n",
       "      <td>13</td>\n",
       "      <td>ALIMENTACION</td>\n",
       "      <td>VENTA DE PIZZAS</td>\n",
       "      <td>80</td>\n",
       "      <td>COMPLEMENTO O ACOMPAÑAMIENTO (ALITAS POLLO</td>\n",
       "      <td>PATOS</td>\n",
       "      <td>20</td>\n",
       "      <td>...</td>\n",
       "      <td>0</td>\n",
       "      <td>0</td>\n",
       "      <td>0</td>\n",
       "      <td>0.0</td>\n",
       "      <td>117720000</td>\n",
       "      <td>117720000</td>\n",
       "      <td>NaN</td>\n",
       "      <td>NaN</td>\n",
       "      <td>24</td>\n",
       "      <td>48699951</td>\n",
       "    </tr>\n",
       "    <tr>\n",
       "      <th>709</th>\n",
       "      <td>1</td>\n",
       "      <td>6</td>\n",
       "      <td>14</td>\n",
       "      <td>13</td>\n",
       "      <td>ALIMENTACION</td>\n",
       "      <td>PIZZAS</td>\n",
       "      <td>90</td>\n",
       "      <td>BEBIDAS</td>\n",
       "      <td>EMPANADAS Y AGREGADOS</td>\n",
       "      <td>10</td>\n",
       "      <td>...</td>\n",
       "      <td>0</td>\n",
       "      <td>0</td>\n",
       "      <td>0</td>\n",
       "      <td>0.0</td>\n",
       "      <td>124000000</td>\n",
       "      <td>124000000</td>\n",
       "      <td>NaN</td>\n",
       "      <td>NaN</td>\n",
       "      <td>24</td>\n",
       "      <td>48699951</td>\n",
       "    </tr>\n",
       "    <tr>\n",
       "      <th>710</th>\n",
       "      <td>1</td>\n",
       "      <td>6</td>\n",
       "      <td>14</td>\n",
       "      <td>13</td>\n",
       "      <td>ALIMENTACION</td>\n",
       "      <td>TRAGOS</td>\n",
       "      <td>60</td>\n",
       "      <td>VENTA ENTRADAS</td>\n",
       "      <td>40</td>\n",
       "      <td>SHOW</td>\n",
       "      <td>...</td>\n",
       "      <td>0</td>\n",
       "      <td>0</td>\n",
       "      <td>0</td>\n",
       "      <td>99.0</td>\n",
       "      <td>183451161</td>\n",
       "      <td>NaN</td>\n",
       "      <td>NaN</td>\n",
       "      <td>NaN</td>\n",
       "      <td>7</td>\n",
       "      <td>222000122</td>\n",
       "    </tr>\n",
       "  </tbody>\n",
       "</table>\n",
       "<p>5 rows × 727 columns</p>\n",
       "</div>"
      ],
      "text/plain": [
       "     Id_Encuesta  Actividad  Mz  Act_Cod           Reg               A1 A2_1  \\\n",
       "214            1          6  14       13  ALIMENTACION       RESTAURANT  100   \n",
       "707            1          6  14       13  ALIMENTACION       RESTAURANT  100   \n",
       "708            1          6  14       13  ALIMENTACION  VENTA DE PIZZAS   80   \n",
       "709            1          6  14       13  ALIMENTACION           PIZZAS   90   \n",
       "710            1          6  14       13  ALIMENTACION           TRAGOS   60   \n",
       "\n",
       "                                           A3_1                    A2_2  \\\n",
       "214                                         NaN                     NaN   \n",
       "707                                         NaN                     NaN   \n",
       "708  COMPLEMENTO O ACOMPAÑAMIENTO (ALITAS POLLO                   PATOS   \n",
       "709                                     BEBIDAS   EMPANADAS Y AGREGADOS   \n",
       "710                              VENTA ENTRADAS                      40   \n",
       "\n",
       "        A3_2  ... H5_10 H5_10_Imp H5_11    H5_11_Imp      H5_12  H5_12_Imp  \\\n",
       "214      NaN  ...     0         0     0  401500000.0  401500000        NaN   \n",
       "707  EVENTOS  ...     0         0     0  247600000.0  247600000        NaN   \n",
       "708       20  ...     0         0     0          0.0  117720000  117720000   \n",
       "709       10  ...     0         0     0          0.0  124000000  124000000   \n",
       "710     SHOW  ...     0         0     0         99.0  183451161        NaN   \n",
       "\n",
       "     H5_9esp  H5_10esp  H5_11esp       Fexp  \n",
       "214      NaN       NaN        11   85000038  \n",
       "707      NaN       NaN         5  781000137  \n",
       "708      NaN       NaN        24   48699951  \n",
       "709      NaN       NaN        24   48699951  \n",
       "710      NaN       NaN         7  222000122  \n",
       "\n",
       "[5 rows x 727 columns]"
      ]
     },
     "execution_count": 3,
     "metadata": {},
     "output_type": "execute_result"
    }
   ],
   "source": [
    "df.head()"
   ]
  },
  {
   "cell_type": "code",
   "execution_count": 4,
   "metadata": {
    "scrolled": true
   },
   "outputs": [
    {
     "data": {
      "text/plain": [
       "Index(['Id_Encuesta', 'Actividad', 'Mz', 'Act_Cod', 'Reg', 'A1', 'A2_1',\n",
       "       'A3_1', 'A2_2', 'A3_2',\n",
       "       ...\n",
       "       'H5_10', 'H5_10_Imp', 'H5_11', 'H5_11_Imp', 'H5_12', 'H5_12_Imp',\n",
       "       'H5_9esp', 'H5_10esp', 'H5_11esp', 'Fexp'],\n",
       "      dtype='object', length=727)"
      ]
     },
     "execution_count": 4,
     "metadata": {},
     "output_type": "execute_result"
    }
   ],
   "source": [
    "df.columns"
   ]
  },
  {
   "cell_type": "code",
   "execution_count": 5,
   "metadata": {},
   "outputs": [
    {
     "data": {
      "text/plain": [
       "Reg\n",
       "AGENCIA DE VIAJE                          87\n",
       "ALIMENTACION                             150\n",
       "ALOJAMIENTO                              118\n",
       "ARRIENDO DE BICICLETAS                     1\n",
       "ARRIENDO DE VEHICULOS                      5\n",
       "GUIA DE TURISMO                           45\n",
       "SERVICIO DE BUSES Y TAXIS DE TURISMO       2\n",
       "SERVICIO DE ESPARCIMIENTO                  4\n",
       "SERVICIOS CULTURALES                      11\n",
       "SERVICIOS DE ESPARCIMIENTO                 8\n",
       "TRANSPORTE DE PASAJEROS                    3\n",
       "TRANSPORTE DE PASAJEROS AL AEROPUERTO      2\n",
       "TRANSPORTE DE PASAJEROS POR CARRETERA      6\n",
       "TRANSPORTE DE PASAJEROS VIA AEREA          8\n",
       "TRASNPORTE DE PASAJEROS                    3\n",
       "TURISMO AVENTURA                          25\n",
       "VENTA DE ARTESANIA                         6\n",
       "Name: Id_Encuesta, dtype: int64"
      ]
     },
     "execution_count": 5,
     "metadata": {},
     "output_type": "execute_result"
    }
   ],
   "source": [
    "df.groupby('Reg').count()['Id_Encuesta']"
   ]
  },
  {
   "cell_type": "code",
   "execution_count": 6,
   "metadata": {},
   "outputs": [
    {
     "data": {
      "image/png": "[encoded data removed]",
      "text/plain": [
       "<Figure size 720x504 with 1 Axes>"
      ]
     },
     "metadata": {
      "needs_background": "light"
     },
     "output_type": "display_data"
    }
   ],
   "source": [
    "# Visualiza esto en un diagrama de barras.\n",
    "ax = df.groupby('Reg').count()['Id_Encuesta'].plot(\n",
    "kind='bar',\n",
    "color='orchid',\n",
    "grid=True,\n",
    "figsize=(10, 7),\n",
    "title='Agrupado por Rubro'\n",
    ")\n",
    "ax.set_xlabel('Rubro')\n",
    "ax.set_ylabel('N° Personas Contratadas')\n",
    "plt.show()"
   ]
  },
  {
   "cell_type": "code",
   "execution_count": null,
   "metadata": {},
   "outputs": [],
   "source": []
  }
 ],
 "metadata": {
  "kernelspec": {
   "display_name": "Python 3",
   "language": "python",
   "name": "python3"
  },
  "language_info": {
   "codemirror_mode": {
    "name": "ipython",
    "version": 3
   },
   "file_extension": ".py",
   "mimetype": "text/x-python",
   "name": "python",
   "nbconvert_exporter": "python",
   "pygments_lexer": "ipython3",
   "version": "3.7.1"
  }
 },
 "nbformat": 4,
 "nbformat_minor": 2
}
