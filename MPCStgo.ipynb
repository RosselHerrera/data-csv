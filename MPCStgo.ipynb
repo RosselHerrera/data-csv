{
 "cells": [
  {
   "cell_type": "markdown",
   "metadata": {},
   "source": [
    "# Maestro de patentes comerciales Santiago"
   ]
  },
  {
   "cell_type": "markdown",
   "metadata": {},
   "source": [
    "En este apartado podrá acceder a nuestro Maestro de Patentes actualizado, el cual cuenta con todas las patentes que se \n",
    "encuentran vigentes al mes anterior de la publicación.\n",
    "\n",
    "Podrá acceder a las patentes; Industriales, Comerciales, Profesionales, de Alcoholes, Comercio Estacionado \n",
    "(en la vía púbica), Ferias Libres y Propaganda."
   ]
  },
  {
   "cell_type": "code",
   "execution_count": 1,
   "metadata": {},
   "outputs": [
    {
     "data": {
      "text/plain": [
       "(69608, 32)"
      ]
     },
     "execution_count": 1,
     "metadata": {},
     "output_type": "execute_result"
    }
   ],
   "source": [
    "%matplotlib inline\n",
    "import matplotlib.pyplot as plt\n",
    "import pandas as pd\n",
    "df = pd.read_csv('data/maestro-marzo-2019.csv', encoding='latin-1', low_memory=False)\n",
    "df.shape"
   ]
  },
  {
   "cell_type": "code",
   "execution_count": 5,
   "metadata": {},
   "outputs": [
    {
     "data": {
      "text/html": [
       "<div>\n",
       "<style scoped>\n",
       "    .dataframe tbody tr th:only-of-type {\n",
       "        vertical-align: middle;\n",
       "    }\n",
       "\n",
       "    .dataframe tbody tr th {\n",
       "        vertical-align: top;\n",
       "    }\n",
       "\n",
       "    .dataframe thead th {\n",
       "        text-align: right;\n",
       "    }\n",
       "</style>\n",
       "<table border=\"1\" class=\"dataframe\">\n",
       "  <thead>\n",
       "    <tr style=\"text-align: right;\">\n",
       "      <th></th>\n",
       "      <th>Rol</th>\n",
       "      <th>dvRol</th>\n",
       "      <th>Patente</th>\n",
       "      <th>Nombre</th>\n",
       "      <th>Calle</th>\n",
       "      <th>Numero</th>\n",
       "      <th>Aclaratoria</th>\n",
       "      <th>RolSII</th>\n",
       "      <th>Nombre_Rep</th>\n",
       "      <th>TIPO de PATENTE</th>\n",
       "      <th>...</th>\n",
       "      <th>Regimen</th>\n",
       "      <th>Estado</th>\n",
       "      <th>METROS NO LUMINOSOS</th>\n",
       "      <th>METROS VITRINAS</th>\n",
       "      <th>METROS LUMINOSAS</th>\n",
       "      <th>METROS ILUMINADOS</th>\n",
       "      <th>METROS SOBRETECHO</th>\n",
       "      <th>CODIGO SII</th>\n",
       "      <th>ACTIVIDAD SII</th>\n",
       "      <th>fecha_anulacion</th>\n",
       "    </tr>\n",
       "  </thead>\n",
       "  <tbody>\n",
       "    <tr>\n",
       "      <th>0</th>\n",
       "      <td>96</td>\n",
       "      <td>5</td>\n",
       "      <td>96-5</td>\n",
       "      <td>VALLEJOS PACHECO GUIDO RAUL RENE</td>\n",
       "      <td>VICTORIA SUBERCASEAUX</td>\n",
       "      <td>353</td>\n",
       "      <td>NaN</td>\n",
       "      <td>0.0</td>\n",
       "      <td>NaN</td>\n",
       "      <td>PROPAGANDA</td>\n",
       "      <td>...</td>\n",
       "      <td>REG. GRAL-CONTABILIDAD COMPLETA</td>\n",
       "      <td>VIGENTE</td>\n",
       "      <td>1.0</td>\n",
       "      <td>NaN</td>\n",
       "      <td>NaN</td>\n",
       "      <td>NaN</td>\n",
       "      <td>NaN</td>\n",
       "      <td>NaN</td>\n",
       "      <td>NaN</td>\n",
       "      <td>NaN</td>\n",
       "    </tr>\n",
       "    <tr>\n",
       "      <th>1</th>\n",
       "      <td>1139</td>\n",
       "      <td>8</td>\n",
       "      <td>1139-8</td>\n",
       "      <td>CUPERFI CHIMENEAS LIMITADA</td>\n",
       "      <td>AVENIDA PORTUGAL</td>\n",
       "      <td>772</td>\n",
       "      <td>NaN</td>\n",
       "      <td>0.0</td>\n",
       "      <td>PAKCIARZ SOMMER LIBER</td>\n",
       "      <td>PROPAGANDA</td>\n",
       "      <td>...</td>\n",
       "      <td>REG. GRAL-CONTABILIDAD COMPLETA</td>\n",
       "      <td>VIGENTE</td>\n",
       "      <td>NaN</td>\n",
       "      <td>NaN</td>\n",
       "      <td>2.0</td>\n",
       "      <td>NaN</td>\n",
       "      <td>NaN</td>\n",
       "      <td>NaN</td>\n",
       "      <td>NaN</td>\n",
       "      <td>NaN</td>\n",
       "    </tr>\n",
       "    <tr>\n",
       "      <th>2</th>\n",
       "      <td>1140</td>\n",
       "      <td>1</td>\n",
       "      <td>1140-1</td>\n",
       "      <td>CUPERFI CHIMENEAS LIMITADA</td>\n",
       "      <td>AVENIDA PORTUGAL</td>\n",
       "      <td>772</td>\n",
       "      <td>NaN</td>\n",
       "      <td>0.0</td>\n",
       "      <td>PAKCIARZ SOMMER LIBER</td>\n",
       "      <td>PROPAGANDA</td>\n",
       "      <td>...</td>\n",
       "      <td>REG. GRAL-CONTABILIDAD COMPLETA</td>\n",
       "      <td>VIGENTE</td>\n",
       "      <td>1.0</td>\n",
       "      <td>NaN</td>\n",
       "      <td>NaN</td>\n",
       "      <td>NaN</td>\n",
       "      <td>NaN</td>\n",
       "      <td>NaN</td>\n",
       "      <td>NaN</td>\n",
       "      <td>NaN</td>\n",
       "    </tr>\n",
       "    <tr>\n",
       "      <th>3</th>\n",
       "      <td>1715</td>\n",
       "      <td>9</td>\n",
       "      <td>1715-9</td>\n",
       "      <td>DISTRIBUIDORA DE TUERCAS Y PERNOS LIMITA</td>\n",
       "      <td>AVENIDA DIEZ DE JULIO HUAMACHUCO</td>\n",
       "      <td>641</td>\n",
       "      <td>NaN</td>\n",
       "      <td>0.0</td>\n",
       "      <td>HOFFMANN SANTELICES HEIDI ELISABETH</td>\n",
       "      <td>PROPAGANDA</td>\n",
       "      <td>...</td>\n",
       "      <td>REG. GRAL-CONTABILIDAD COMPLETA</td>\n",
       "      <td>VIGENTE</td>\n",
       "      <td>2.0</td>\n",
       "      <td>NaN</td>\n",
       "      <td>NaN</td>\n",
       "      <td>NaN</td>\n",
       "      <td>NaN</td>\n",
       "      <td>NaN</td>\n",
       "      <td>NaN</td>\n",
       "      <td>NaN</td>\n",
       "    </tr>\n",
       "    <tr>\n",
       "      <th>4</th>\n",
       "      <td>2423</td>\n",
       "      <td>6</td>\n",
       "      <td>2423-6</td>\n",
       "      <td>JORGE ZUBIA POBLETE Y CIA LTDA</td>\n",
       "      <td>AVENIDA MANUEL ANTONIO MATTA</td>\n",
       "      <td>366</td>\n",
       "      <td>NaN</td>\n",
       "      <td>0.0</td>\n",
       "      <td>ZUBIA  POBLETE JORGE</td>\n",
       "      <td>PROPAGANDA</td>\n",
       "      <td>...</td>\n",
       "      <td>REG. GRAL-CONTABILIDAD COMPLETA</td>\n",
       "      <td>VIGENTE</td>\n",
       "      <td>NaN</td>\n",
       "      <td>NaN</td>\n",
       "      <td>NaN</td>\n",
       "      <td>NaN</td>\n",
       "      <td>NaN</td>\n",
       "      <td>NaN</td>\n",
       "      <td>NaN</td>\n",
       "      <td>NaN</td>\n",
       "    </tr>\n",
       "  </tbody>\n",
       "</table>\n",
       "<p>5 rows × 32 columns</p>\n",
       "</div>"
      ],
      "text/plain": [
       "    Rol dvRol Patente                                    Nombre  \\\n",
       "0    96     5    96-5          VALLEJOS PACHECO GUIDO RAUL RENE   \n",
       "1  1139     8  1139-8                CUPERFI CHIMENEAS LIMITADA   \n",
       "2  1140     1  1140-1                CUPERFI CHIMENEAS LIMITADA   \n",
       "3  1715     9  1715-9  DISTRIBUIDORA DE TUERCAS Y PERNOS LIMITA   \n",
       "4  2423     6  2423-6            JORGE ZUBIA POBLETE Y CIA LTDA   \n",
       "\n",
       "                              Calle  Numero Aclaratoria  RolSII  \\\n",
       "0             VICTORIA SUBERCASEAUX     353         NaN     0.0   \n",
       "1                  AVENIDA PORTUGAL     772         NaN     0.0   \n",
       "2                  AVENIDA PORTUGAL     772         NaN     0.0   \n",
       "3  AVENIDA DIEZ DE JULIO HUAMACHUCO     641         NaN     0.0   \n",
       "4      AVENIDA MANUEL ANTONIO MATTA     366         NaN     0.0   \n",
       "\n",
       "                            Nombre_Rep TIPO de PATENTE  ...  \\\n",
       "0                                  NaN      PROPAGANDA  ...   \n",
       "1                PAKCIARZ SOMMER LIBER      PROPAGANDA  ...   \n",
       "2                PAKCIARZ SOMMER LIBER      PROPAGANDA  ...   \n",
       "3  HOFFMANN SANTELICES HEIDI ELISABETH      PROPAGANDA  ...   \n",
       "4                 ZUBIA  POBLETE JORGE      PROPAGANDA  ...   \n",
       "\n",
       "                           Regimen   Estado METROS NO LUMINOSOS  \\\n",
       "0  REG. GRAL-CONTABILIDAD COMPLETA  VIGENTE                 1.0   \n",
       "1  REG. GRAL-CONTABILIDAD COMPLETA  VIGENTE                 NaN   \n",
       "2  REG. GRAL-CONTABILIDAD COMPLETA  VIGENTE                 1.0   \n",
       "3  REG. GRAL-CONTABILIDAD COMPLETA  VIGENTE                 2.0   \n",
       "4  REG. GRAL-CONTABILIDAD COMPLETA  VIGENTE                 NaN   \n",
       "\n",
       "  METROS VITRINAS METROS LUMINOSAS METROS ILUMINADOS METROS SOBRETECHO  \\\n",
       "0             NaN              NaN               NaN               NaN   \n",
       "1             NaN              2.0               NaN               NaN   \n",
       "2             NaN              NaN               NaN               NaN   \n",
       "3             NaN              NaN               NaN               NaN   \n",
       "4             NaN              NaN               NaN               NaN   \n",
       "\n",
       "  CODIGO SII  ACTIVIDAD SII fecha_anulacion  \n",
       "0        NaN            NaN             NaN  \n",
       "1        NaN            NaN             NaN  \n",
       "2        NaN            NaN             NaN  \n",
       "3        NaN            NaN             NaN  \n",
       "4        NaN            NaN             NaN  \n",
       "\n",
       "[5 rows x 32 columns]"
      ]
     },
     "execution_count": 5,
     "metadata": {},
     "output_type": "execute_result"
    }
   ],
   "source": [
    "df.head()"
   ]
  },
  {
   "cell_type": "code",
   "execution_count": 6,
   "metadata": {},
   "outputs": [
    {
     "data": {
      "text/plain": [
       "Index(['Rol', 'dvRol', 'Patente', 'Nombre', 'Calle', 'Numero', 'Aclaratoria',\n",
       "       'RolSII', 'Nombre_Rep', 'TIPO de PATENTE', 'Inicio ActividadES', 'AGTP',\n",
       "       'CasaMatriz', 'Giro', 'PROVISORIA', 'Ingreso de tramite', 'Vencimiento',\n",
       "       'Aseo', 'Aseo Extra', 'Codigo alcohol', 'Bnup', 'BnupMetro', 'Regimen',\n",
       "       'Estado', 'METROS NO LUMINOSOS', 'METROS VITRINAS', 'METROS LUMINOSAS',\n",
       "       'METROS ILUMINADOS', 'METROS SOBRETECHO', 'CODIGO SII', 'ACTIVIDAD SII',\n",
       "       'fecha_anulacion'],\n",
       "      dtype='object')"
      ]
     },
     "execution_count": 6,
     "metadata": {},
     "output_type": "execute_result"
    }
   ],
   "source": [
    "df.columns"
   ]
  },
  {
   "cell_type": "code",
   "execution_count": 7,
   "metadata": {},
   "outputs": [
    {
     "data": {
      "text/plain": [
       "TIPO de PATENTE\n",
       "ALCOHOL           2756\n",
       "COMERCIAL        56191\n",
       "ESTACIONADO       1974\n",
       "FERIAS LIBRES      560\n",
       "INDUSTRIAL         706\n",
       "PROFESIONAL       6685\n",
       "PROPAGANDA         736\n",
       "Name: Rol, dtype: int64"
      ]
     },
     "execution_count": 7,
     "metadata": {},
     "output_type": "execute_result"
    }
   ],
   "source": [
    "df.groupby('TIPO de PATENTE').count()['Rol']"
   ]
  },
  {
   "cell_type": "code",
   "execution_count": 8,
   "metadata": {},
   "outputs": [
    {
     "data": {
      "image/png": "[encoded data removed]",
      "text/plain": [
       "<Figure size 720x504 with 1 Axes>"
      ]
     },
     "metadata": {
      "needs_background": "light"
     },
     "output_type": "display_data"
    }
   ],
   "source": [
    "# Visualiza esto en un diagrama de barras.\n",
    "ax = df.groupby('TIPO de PATENTE').count()['Rol'].plot(\n",
    "kind='bar',\n",
    "color='orange',\n",
    "grid=True,\n",
    "figsize=(10, 7),\n",
    "title='Agrupado por Tipo Patente'\n",
    ")\n",
    "ax.set_xlabel('Tipo Patente')\n",
    "ax.set_ylabel('N° Patentes Otorgadas')\n",
    "plt.show()"
   ]
  },
  {
   "cell_type": "code",
   "execution_count": null,
   "metadata": {},
   "outputs": [],
   "source": []
  }
 ],
 "metadata": {
  "kernelspec": {
   "display_name": "Python 3",
   "language": "python",
   "name": "python3"
  },
  "language_info": {
   "codemirror_mode": {
    "name": "ipython",
    "version": 3
   },
   "file_extension": ".py",
   "mimetype": "text/x-python",
   "name": "python",
   "nbconvert_exporter": "python",
   "pygments_lexer": "ipython3",
   "version": "3.7.1"
  }
 },
 "nbformat": 4,
 "nbformat_minor": 2
}
